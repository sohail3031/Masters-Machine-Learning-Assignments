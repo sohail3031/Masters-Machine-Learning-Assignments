{
 "cells": [
  {
   "cell_type": "markdown",
   "id": "47e50efb-c897-493b-9f2e-e4b6a4221d23",
   "metadata": {},
   "source": [
    "**Student Information, Name: Mohammed Sohail Ahmed, \r\n",
    "Student Id: 2358074, \r\n",
    "\r\n",
    "Email Id: moha0748@mylaurie**a\n",
    "**"
   ]
  },
  {
   "cell_type": "markdown",
   "id": "48b3230d-de9f-413a-b45b-42a99d79bce8",
   "metadata": {
    "jp-MarkdownHeadingCollapsed": true
   },
   "source": [
    "# Assignment 1 (Lending Club Dataset)"
   ]
  },
  {
   "cell_type": "code",
   "execution_count": 2,
   "id": "705c1874-291b-450d-8465-f9d07b3f4073",
   "metadata": {},
   "outputs": [],
   "source": [
    "import warnings\n",
    "\n",
    "import pandas as pd\n",
    "import matplotlib.pyplot as plt\n",
    "\n",
    "from sklearn.model_selection import train_test_split\n",
    "from sklearn.tree import DecisionTreeClassifier\n",
    "from sklearn.metrics import accuracy_score, f1_score, precision_score, recall_score, roc_auc_score\n",
    "from sklearn.neighbors import KNeighborsClassifier"
   ]
  },
  {
   "cell_type": "code",
   "execution_count": 3,
   "id": "46a8a3e9-939b-4133-afe6-6b22f21fe8e8",
   "metadata": {},
   "outputs": [],
   "source": [
    "warnings.filterwarnings(\"ignore\")"
   ]
  },
  {
   "cell_type": "code",
   "execution_count": 4,
   "id": "d5474431-e21a-42ef-a0c4-b7cb32be1696",
   "metadata": {},
   "outputs": [],
   "source": [
    "loan_data = pd.read_csv(\"loan_data.csv\")"
   ]
  },
  {
   "cell_type": "code",
   "execution_count": 5,
   "id": "1ef50651-281b-4ed9-8e7a-c7b692133617",
   "metadata": {},
   "outputs": [
    {
     "data": {
      "text/plain": [
       "(9577, 14)"
      ]
     },
     "execution_count": 5,
     "metadata": {},
     "output_type": "execute_result"
    }
   ],
   "source": [
    "loan_data.shape"
   ]
  },
  {
   "cell_type": "code",
   "execution_count": 6,
   "id": "b617784a-5a66-4651-b01c-1ba53852a25c",
   "metadata": {},
   "outputs": [
    {
     "data": {
      "text/html": [
       "<div>\n",
       "<style scoped>\n",
       "    .dataframe tbody tr th:only-of-type {\n",
       "        vertical-align: middle;\n",
       "    }\n",
       "\n",
       "    .dataframe tbody tr th {\n",
       "        vertical-align: top;\n",
       "    }\n",
       "\n",
       "    .dataframe thead th {\n",
       "        text-align: right;\n",
       "    }\n",
       "</style>\n",
       "<table border=\"1\" class=\"dataframe\">\n",
       "  <thead>\n",
       "    <tr style=\"text-align: right;\">\n",
       "      <th></th>\n",
       "      <th>credit.policy</th>\n",
       "      <th>purpose</th>\n",
       "      <th>int.rate</th>\n",
       "      <th>installment</th>\n",
       "      <th>log.annual.inc</th>\n",
       "      <th>dti</th>\n",
       "      <th>fico</th>\n",
       "      <th>days.with.cr.line</th>\n",
       "      <th>revol.bal</th>\n",
       "      <th>revol.util</th>\n",
       "      <th>inq.last.6mths</th>\n",
       "      <th>delinq.2yrs</th>\n",
       "      <th>pub.rec</th>\n",
       "      <th>not.fully.paid</th>\n",
       "    </tr>\n",
       "  </thead>\n",
       "  <tbody>\n",
       "    <tr>\n",
       "      <th>0</th>\n",
       "      <td>1</td>\n",
       "      <td>debt_consolidation</td>\n",
       "      <td>0.1189</td>\n",
       "      <td>829.10</td>\n",
       "      <td>11.350407</td>\n",
       "      <td>19.48</td>\n",
       "      <td>737</td>\n",
       "      <td>5639.958333</td>\n",
       "      <td>28854</td>\n",
       "      <td>52.1</td>\n",
       "      <td>0</td>\n",
       "      <td>0</td>\n",
       "      <td>0</td>\n",
       "      <td>0</td>\n",
       "    </tr>\n",
       "    <tr>\n",
       "      <th>1</th>\n",
       "      <td>1</td>\n",
       "      <td>credit_card</td>\n",
       "      <td>0.1071</td>\n",
       "      <td>228.22</td>\n",
       "      <td>11.082143</td>\n",
       "      <td>14.29</td>\n",
       "      <td>707</td>\n",
       "      <td>2760.000000</td>\n",
       "      <td>33623</td>\n",
       "      <td>76.7</td>\n",
       "      <td>0</td>\n",
       "      <td>0</td>\n",
       "      <td>0</td>\n",
       "      <td>0</td>\n",
       "    </tr>\n",
       "    <tr>\n",
       "      <th>2</th>\n",
       "      <td>1</td>\n",
       "      <td>debt_consolidation</td>\n",
       "      <td>0.1357</td>\n",
       "      <td>366.86</td>\n",
       "      <td>10.373491</td>\n",
       "      <td>11.63</td>\n",
       "      <td>682</td>\n",
       "      <td>4710.000000</td>\n",
       "      <td>3511</td>\n",
       "      <td>25.6</td>\n",
       "      <td>1</td>\n",
       "      <td>0</td>\n",
       "      <td>0</td>\n",
       "      <td>0</td>\n",
       "    </tr>\n",
       "    <tr>\n",
       "      <th>3</th>\n",
       "      <td>1</td>\n",
       "      <td>debt_consolidation</td>\n",
       "      <td>0.1008</td>\n",
       "      <td>162.34</td>\n",
       "      <td>11.350407</td>\n",
       "      <td>8.10</td>\n",
       "      <td>712</td>\n",
       "      <td>2699.958333</td>\n",
       "      <td>33667</td>\n",
       "      <td>73.2</td>\n",
       "      <td>1</td>\n",
       "      <td>0</td>\n",
       "      <td>0</td>\n",
       "      <td>0</td>\n",
       "    </tr>\n",
       "    <tr>\n",
       "      <th>4</th>\n",
       "      <td>1</td>\n",
       "      <td>credit_card</td>\n",
       "      <td>0.1426</td>\n",
       "      <td>102.92</td>\n",
       "      <td>11.299732</td>\n",
       "      <td>14.97</td>\n",
       "      <td>667</td>\n",
       "      <td>4066.000000</td>\n",
       "      <td>4740</td>\n",
       "      <td>39.5</td>\n",
       "      <td>0</td>\n",
       "      <td>1</td>\n",
       "      <td>0</td>\n",
       "      <td>0</td>\n",
       "    </tr>\n",
       "  </tbody>\n",
       "</table>\n",
       "</div>"
      ],
      "text/plain": [
       "   credit.policy             purpose  int.rate  installment  log.annual.inc  \\\n",
       "0              1  debt_consolidation    0.1189       829.10       11.350407   \n",
       "1              1         credit_card    0.1071       228.22       11.082143   \n",
       "2              1  debt_consolidation    0.1357       366.86       10.373491   \n",
       "3              1  debt_consolidation    0.1008       162.34       11.350407   \n",
       "4              1         credit_card    0.1426       102.92       11.299732   \n",
       "\n",
       "     dti  fico  days.with.cr.line  revol.bal  revol.util  inq.last.6mths  \\\n",
       "0  19.48   737        5639.958333      28854        52.1               0   \n",
       "1  14.29   707        2760.000000      33623        76.7               0   \n",
       "2  11.63   682        4710.000000       3511        25.6               1   \n",
       "3   8.10   712        2699.958333      33667        73.2               1   \n",
       "4  14.97   667        4066.000000       4740        39.5               0   \n",
       "\n",
       "   delinq.2yrs  pub.rec  not.fully.paid  \n",
       "0            0        0               0  \n",
       "1            0        0               0  \n",
       "2            0        0               0  \n",
       "3            0        0               0  \n",
       "4            1        0               0  "
      ]
     },
     "execution_count": 6,
     "metadata": {},
     "output_type": "execute_result"
    }
   ],
   "source": [
    "loan_data.head()"
   ]
  },
  {
   "cell_type": "code",
   "execution_count": 7,
   "id": "1a6489c6-7b7a-45f6-b1ec-cae79d3e1d17",
   "metadata": {},
   "outputs": [
    {
     "data": {
      "text/plain": [
       "credit.policy        0\n",
       "purpose              0\n",
       "int.rate             0\n",
       "installment          0\n",
       "log.annual.inc       0\n",
       "dti                  0\n",
       "fico                 0\n",
       "days.with.cr.line    0\n",
       "revol.bal            0\n",
       "revol.util           0\n",
       "inq.last.6mths       0\n",
       "delinq.2yrs          0\n",
       "pub.rec              0\n",
       "not.fully.paid       0\n",
       "dtype: int64"
      ]
     },
     "execution_count": 7,
     "metadata": {},
     "output_type": "execute_result"
    }
   ],
   "source": [
    "loan_data.isnull().sum()"
   ]
  },
  {
   "cell_type": "code",
   "execution_count": 8,
   "id": "f648bb78-caf0-4325-bcaa-504cd18b3401",
   "metadata": {},
   "outputs": [
    {
     "name": "stdout",
     "output_type": "stream",
     "text": [
      "<class 'pandas.core.frame.DataFrame'>\n",
      "RangeIndex: 9577 entries, 0 to 9576\n",
      "Data columns (total 14 columns):\n",
      " #   Column             Non-Null Count  Dtype  \n",
      "---  ------             --------------  -----  \n",
      " 0   credit.policy      9577 non-null   int64  \n",
      " 1   purpose            9577 non-null   object \n",
      " 2   int.rate           9577 non-null   float64\n",
      " 3   installment        9577 non-null   float64\n",
      " 4   log.annual.inc     9577 non-null   float64\n",
      " 5   dti                9577 non-null   float64\n",
      " 6   fico               9577 non-null   int64  \n",
      " 7   days.with.cr.line  9577 non-null   float64\n",
      " 8   revol.bal          9577 non-null   int64  \n",
      " 9   revol.util         9577 non-null   float64\n",
      " 10  inq.last.6mths     9577 non-null   int64  \n",
      " 11  delinq.2yrs        9577 non-null   int64  \n",
      " 12  pub.rec            9577 non-null   int64  \n",
      " 13  not.fully.paid     9577 non-null   int64  \n",
      "dtypes: float64(6), int64(7), object(1)\n",
      "memory usage: 1.0+ MB\n"
     ]
    }
   ],
   "source": [
    "loan_data.info()"
   ]
  },
  {
   "cell_type": "markdown",
   "id": "f7eee8a2-026a-4402-a7ff-c225cd100faa",
   "metadata": {
    "jp-MarkdownHeadingCollapsed": true
   },
   "source": [
    "# 1. Explore data statistics (6 points)."
   ]
  },
  {
   "cell_type": "markdown",
   "id": "459da55a-2606-4222-8cdf-732f58e94d3a",
   "metadata": {
    "jp-MarkdownHeadingCollapsed": true
   },
   "source": [
    "## (a) Calculate the average FICO credit score for customers who meet (credit.policy = 1) and don’t meet (credit.policy = 0) the credit underwriting criteria."
   ]
  },
  {
   "cell_type": "code",
   "execution_count": 9,
   "id": "4d6ff6e3-482a-4bcd-bd39-0bfa048d0afe",
   "metadata": {},
   "outputs": [],
   "source": [
    "fico_credit_score_1 = loan_data[loan_data[\"credit.policy\"] == 1]\n",
    "fico_credit_score_0 = loan_data[loan_data[\"credit.policy\"] == 0]"
   ]
  },
  {
   "cell_type": "code",
   "execution_count": 10,
   "id": "d1afc83e-7bc9-45be-89ff-98a23684404a",
   "metadata": {},
   "outputs": [],
   "source": [
    "fico_credit_score_1_mean = fico_credit_score_1[\"fico\"].mean()\n",
    "fico_credit_score_0_mean = fico_credit_score_0[\"fico\"].mean()"
   ]
  },
  {
   "cell_type": "code",
   "execution_count": 11,
   "id": "73f21b44-f57f-4bc9-8024-17ed928636df",
   "metadata": {},
   "outputs": [
    {
     "data": {
      "text/plain": [
       "(717.3560311284047, 683.952329941082)"
      ]
     },
     "execution_count": 11,
     "metadata": {},
     "output_type": "execute_result"
    }
   ],
   "source": [
    "fico_credit_score_1_mean, fico_credit_score_0_mean"
   ]
  },
  {
   "cell_type": "markdown",
   "id": "cb48a3e7-3614-4929-90eb-b40be55d69c8",
   "metadata": {
    "jp-MarkdownHeadingCollapsed": true
   },
   "source": [
    "## (b) Visualize the distribution of FICO scores for those who have and haven’t fully paid their loans with two separate histograms in a single plot."
   ]
  },
  {
   "cell_type": "code",
   "execution_count": 12,
   "id": "b78508ce-33b2-40e5-98b7-fda9c2a1b1e8",
   "metadata": {},
   "outputs": [],
   "source": [
    "fully_paid = loan_data[loan_data[\"not.fully.paid\"] == 0]\n",
    "not_fully_paid = loan_data[loan_data[\"not.fully.paid\"] == 1]"
   ]
  },
  {
   "cell_type": "code",
   "execution_count": 13,
   "id": "38bf7681-9f05-4c25-b0fe-fa837159bda0",
   "metadata": {},
   "outputs": [
    {
     "data": {
      "text/plain": [
       "<matplotlib.legend.Legend at 0x1d47167c090>"
      ]
     },
     "execution_count": 13,
     "metadata": {},
     "output_type": "execute_result"
    },
    {
     "data": {
      "image/png": "[encoded data removed]",
      "text/plain": [
       "<Figure size 640x480 with 1 Axes>"
      ]
     },
     "metadata": {},
     "output_type": "display_data"
    }
   ],
   "source": [
    "plt.hist([fully_paid[\"fico\"], not_fully_paid[\"fico\"]], label=[\"Fully paid\", \"Not Fully Paid\"])\n",
    "plt.xlabel(\"FICO Score\")\n",
    "plt.ylabel(\"Number of Records\")\n",
    "plt.title(\"Distribution of FICO Score based on Fully Loan Paid or Not\")\n",
    "plt.legend()"
   ]
  },
  {
   "cell_type": "code",
   "execution_count": 14,
   "id": "2ea8427f-0835-41ae-8479-56939b35dc30",
   "metadata": {},
   "outputs": [
    {
     "data": {
      "text/plain": [
       "<matplotlib.legend.Legend at 0x1d473b2f350>"
      ]
     },
     "execution_count": 14,
     "metadata": {},
     "output_type": "execute_result"
    },
    {
     "data": {
      "image/png": "[encoded data removed]",
      "text/plain": [
       "<Figure size 640x480 with 1 Axes>"
      ]
     },
     "metadata": {},
     "output_type": "display_data"
    }
   ],
   "source": [
    "plt.hist(fully_paid[\"fico\"], bins=20, alpha=0.5, label=\"Fully Paid\")\n",
    "plt.hist(not_fully_paid[\"fico\"], bins=20, alpha=0.5, label=\"Fully Paid\")\n",
    "plt.xlabel(\"FICO Score\")\n",
    "plt.ylabel(\"Number of Records\")\n",
    "plt.title(\"Distribution of FICO Score based on Fully Loan Paid or Not\")\n",
    "plt.legend()"
   ]
  },
  {
   "cell_type": "markdown",
   "id": "653778ac-2ff0-47ee-8df4-dba4ae26e848",
   "metadata": {},
   "source": [
    "**Note: The above graphs are save but used with different parameters.**"
   ]
  },
  {
   "cell_type": "markdown",
   "id": "d8ff377b-4184-417d-87a5-e934fae3c80d",
   "metadata": {
    "jp-MarkdownHeadingCollapsed": true
   },
   "source": [
    "## (c) Calculate the correlation between interest rate and FICO score and explain what it implies."
   ]
  },
  {
   "cell_type": "code",
   "execution_count": 15,
   "id": "069501c9-c3a0-4281-8292-797c422346da",
   "metadata": {},
   "outputs": [
    {
     "data": {
      "text/html": [
       "<div>\n",
       "<style scoped>\n",
       "    .dataframe tbody tr th:only-of-type {\n",
       "        vertical-align: middle;\n",
       "    }\n",
       "\n",
       "    .dataframe tbody tr th {\n",
       "        vertical-align: top;\n",
       "    }\n",
       "\n",
       "    .dataframe thead th {\n",
       "        text-align: right;\n",
       "    }\n",
       "</style>\n",
       "<table border=\"1\" class=\"dataframe\">\n",
       "  <thead>\n",
       "    <tr style=\"text-align: right;\">\n",
       "      <th></th>\n",
       "      <th>int.rate</th>\n",
       "      <th>fico</th>\n",
       "    </tr>\n",
       "  </thead>\n",
       "  <tbody>\n",
       "    <tr>\n",
       "      <th>int.rate</th>\n",
       "      <td>1.000000</td>\n",
       "      <td>-0.714882</td>\n",
       "    </tr>\n",
       "    <tr>\n",
       "      <th>fico</th>\n",
       "      <td>-0.714882</td>\n",
       "      <td>1.000000</td>\n",
       "    </tr>\n",
       "  </tbody>\n",
       "</table>\n",
       "</div>"
      ],
      "text/plain": [
       "          int.rate      fico\n",
       "int.rate  1.000000 -0.714882\n",
       "fico     -0.714882  1.000000"
      ]
     },
     "execution_count": 15,
     "metadata": {},
     "output_type": "execute_result"
    }
   ],
   "source": [
    "loan_data[[\"int.rate\", \"fico\"]].corr()"
   ]
  },
  {
   "cell_type": "code",
   "execution_count": 16,
   "id": "3f72d014-8710-459f-af6b-4804be9cf5ff",
   "metadata": {},
   "outputs": [
    {
     "data": {
      "text/plain": [
       "-0.7148824438655298"
      ]
     },
     "execution_count": 16,
     "metadata": {},
     "output_type": "execute_result"
    }
   ],
   "source": [
    "loan_data[\"int.rate\"].corr(loan_data[\"fico\"])"
   ]
  },
  {
   "cell_type": "markdown",
   "id": "2d19a878-b503-45f0-911d-863a0655bfc8",
   "metadata": {},
   "source": [
    "**The correlation between \"int.rate\" and \"fico\" column is \"-0.714882\". There is a strong negative correlation between them. We can say that the customers who have higher fico score tends to have lower interest rate, and vice versa.**"
   ]
  },
  {
   "cell_type": "markdown",
   "id": "3df0dccb-6f12-4209-acde-0fa77bcae2d7",
   "metadata": {
    "jp-MarkdownHeadingCollapsed": true
   },
   "source": [
    "## (d) Visualize the relationship between FICO score and interest rate using a scatter plot and compare it with your conclusion drawn from the last question."
   ]
  },
  {
   "cell_type": "code",
   "execution_count": 17,
   "id": "96cd2eae-7024-48a7-bbc6-288bfa279849",
   "metadata": {},
   "outputs": [
    {
     "data": {
      "text/plain": [
       "Text(0.5, 1.0, 'Scatter plot between Interest Rate and Fico Score')"
      ]
     },
     "execution_count": 17,
     "metadata": {},
     "output_type": "execute_result"
    },
    {
     "data": {
      "image/png": "[encoded data removed]",
      "text/plain": [
       "<Figure size 640x480 with 1 Axes>"
      ]
     },
     "metadata": {},
     "output_type": "display_data"
    }
   ],
   "source": [
    "plt.scatter(loan_data[\"int.rate\"], loan_data[\"fico\"])\n",
    "plt.xlabel(\"Interest rate\")\n",
    "plt.ylabel(\"FICO Score\")\n",
    "plt.title(\"Scatter plot between Interest Rate and Fico Score\")"
   ]
  },
  {
   "cell_type": "code",
   "execution_count": 18,
   "id": "58cb1c67-cd48-4e22-b2ca-c3d77b5a6690",
   "metadata": {},
   "outputs": [
    {
     "data": {
      "text/plain": [
       "<matplotlib.legend.Legend at 0x1d473b9ae50>"
      ]
     },
     "execution_count": 18,
     "metadata": {},
     "output_type": "execute_result"
    },
    {
     "data": {
      "image/png": "[encoded data removed]",
      "text/plain": [
       "<Figure size 640x480 with 1 Axes>"
      ]
     },
     "metadata": {},
     "output_type": "display_data"
    }
   ],
   "source": [
    "plt.scatter(fico_credit_score_1[\"int.rate\"], fico_credit_score_1[\"fico\"], label=\"credit.policy = 1\")\n",
    "plt.scatter(fico_credit_score_0[\"int.rate\"], fico_credit_score_0[\"fico\"], label=\"credit.policy = 0\")\n",
    "plt.xlabel(\"Interest rate\")\n",
    "plt.ylabel(\"FICO Score\")\n",
    "plt.title(\"Scatter plot between Interest Rate and Fico Score\")\n",
    "plt.legend()"
   ]
  },
  {
   "cell_type": "markdown",
   "id": "c104e085-b004-46dc-acbc-358b95d5de81",
   "metadata": {},
   "source": [
    "**Note: The above scatter plots are same but used with different parameters.**"
   ]
  },
  {
   "cell_type": "markdown",
   "id": "1108f4cc-9d68-4cca-8d65-efaab10ea3cb",
   "metadata": {},
   "source": [
    "**The scatter plot also confirms the conclusion of question 1(c). It also shows the downward trend in the relation between interest rate and fico score. Hence, they are negatively correlated.**"
   ]
  },
  {
   "cell_type": "markdown",
   "id": "61c34578-9744-4a73-8542-109dcde54d13",
   "metadata": {
    "jp-MarkdownHeadingCollapsed": true
   },
   "source": [
    "## (e) What’s the average interest rate based on the purpose of the loan"
   ]
  },
  {
   "cell_type": "code",
   "execution_count": 19,
   "id": "8cdbf94d-4f95-468d-a08f-a4944661cb47",
   "metadata": {},
   "outputs": [
    {
     "data": {
      "text/plain": [
       "purpose\n",
       "all_other             0.116771\n",
       "credit_card           0.119738\n",
       "debt_consolidation    0.126592\n",
       "educational           0.119907\n",
       "home_improvement      0.117507\n",
       "major_purchase        0.114171\n",
       "small_business        0.138087\n",
       "Name: int.rate, dtype: float64"
      ]
     },
     "execution_count": 19,
     "metadata": {},
     "output_type": "execute_result"
    }
   ],
   "source": [
    "loan_data.groupby(\"purpose\")[\"int.rate\"].mean()"
   ]
  },
  {
   "cell_type": "markdown",
   "id": "64d695b2-6f23-4b42-a0ff-7caa5fa6ea52",
   "metadata": {
    "jp-MarkdownHeadingCollapsed": true
   },
   "source": [
    "## (f) Is there a significant difference in the distribution of FICO scores between customers who fully paid their loans and those who didn’t? (Hint: Visualize using a boxplot)"
   ]
  },
  {
   "cell_type": "code",
   "execution_count": 20,
   "id": "20de59c1-d90f-4888-9dbf-f89dfb4d54bd",
   "metadata": {},
   "outputs": [
    {
     "data": {
      "text/plain": [
       "Text(0.5, 1.0, 'Distribution of FICO Scores by Loan Status i.e: (Fully Paid or Not Fully Paid) and (Fico Score)')"
      ]
     },
     "execution_count": 20,
     "metadata": {},
     "output_type": "execute_result"
    },
    {
     "data": {
      "image/png": "[encoded data removed]",
      "text/plain": [
       "<Figure size 640x480 with 1 Axes>"
      ]
     },
     "metadata": {},
     "output_type": "display_data"
    }
   ],
   "source": [
    "plt.boxplot([fully_paid[\"fico\"], not_fully_paid[\"fico\"]], labels=[\"Fully Paid\", \"Not Fully Paid\"], patch_artist=True)\n",
    "plt.xlabel(\"Loan Status\")\n",
    "plt.ylabel(\"FICO Score\")\n",
    "plt.title(\"Distribution of FICO Scores by Loan Status i.e: (Fully Paid or Not Fully Paid) and (Fico Score)\")"
   ]
  },
  {
   "cell_type": "markdown",
   "id": "5dfa91f7-56b3-4e30-9674-79b8d0de1884",
   "metadata": {},
   "source": [
    "**There is a slightly difference between the customers who Fully Paid their loan and who didn't.**"
   ]
  },
  {
   "cell_type": "markdown",
   "id": "aa29249b-e5b5-4934-97a6-ff84db870a23",
   "metadata": {
    "jp-MarkdownHeadingCollapsed": true
   },
   "source": [
    "# 2. Prepare the dataset for model training (4 points)."
   ]
  },
  {
   "cell_type": "markdown",
   "id": "4ded739d-7ed3-4f63-beac-a3a3441abf8f",
   "metadata": {
    "jp-MarkdownHeadingCollapsed": true
   },
   "source": [
    "## 1) convert categorical variables (e.g., purpose) into dummy variables;"
   ]
  },
  {
   "cell_type": "code",
   "execution_count": 21,
   "id": "852256f7-146f-45a4-a654-ca1f9e2a16fb",
   "metadata": {},
   "outputs": [],
   "source": [
    "loan_data_with_dummies = loan_data.join(pd.get_dummies(loan_data[\"purpose\"], prefix=\"purpose\", drop_first=True))"
   ]
  },
  {
   "cell_type": "code",
   "execution_count": 22,
   "id": "821a3dd3-9e51-4513-beaf-8c6be69a2c6d",
   "metadata": {},
   "outputs": [
    {
     "data": {
      "text/html": [
       "<div>\n",
       "<style scoped>\n",
       "    .dataframe tbody tr th:only-of-type {\n",
       "        vertical-align: middle;\n",
       "    }\n",
       "\n",
       "    .dataframe tbody tr th {\n",
       "        vertical-align: top;\n",
       "    }\n",
       "\n",
       "    .dataframe thead th {\n",
       "        text-align: right;\n",
       "    }\n",
       "</style>\n",
       "<table border=\"1\" class=\"dataframe\">\n",
       "  <thead>\n",
       "    <tr style=\"text-align: right;\">\n",
       "      <th></th>\n",
       "      <th>credit.policy</th>\n",
       "      <th>purpose</th>\n",
       "      <th>int.rate</th>\n",
       "      <th>installment</th>\n",
       "      <th>log.annual.inc</th>\n",
       "      <th>dti</th>\n",
       "      <th>fico</th>\n",
       "      <th>days.with.cr.line</th>\n",
       "      <th>revol.bal</th>\n",
       "      <th>revol.util</th>\n",
       "      <th>inq.last.6mths</th>\n",
       "      <th>delinq.2yrs</th>\n",
       "      <th>pub.rec</th>\n",
       "      <th>not.fully.paid</th>\n",
       "      <th>purpose_credit_card</th>\n",
       "      <th>purpose_debt_consolidation</th>\n",
       "      <th>purpose_educational</th>\n",
       "      <th>purpose_home_improvement</th>\n",
       "      <th>purpose_major_purchase</th>\n",
       "      <th>purpose_small_business</th>\n",
       "    </tr>\n",
       "  </thead>\n",
       "  <tbody>\n",
       "    <tr>\n",
       "      <th>0</th>\n",
       "      <td>1</td>\n",
       "      <td>debt_consolidation</td>\n",
       "      <td>0.1189</td>\n",
       "      <td>829.10</td>\n",
       "      <td>11.350407</td>\n",
       "      <td>19.48</td>\n",
       "      <td>737</td>\n",
       "      <td>5639.958333</td>\n",
       "      <td>28854</td>\n",
       "      <td>52.1</td>\n",
       "      <td>0</td>\n",
       "      <td>0</td>\n",
       "      <td>0</td>\n",
       "      <td>0</td>\n",
       "      <td>False</td>\n",
       "      <td>True</td>\n",
       "      <td>False</td>\n",
       "      <td>False</td>\n",
       "      <td>False</td>\n",
       "      <td>False</td>\n",
       "    </tr>\n",
       "    <tr>\n",
       "      <th>1</th>\n",
       "      <td>1</td>\n",
       "      <td>credit_card</td>\n",
       "      <td>0.1071</td>\n",
       "      <td>228.22</td>\n",
       "      <td>11.082143</td>\n",
       "      <td>14.29</td>\n",
       "      <td>707</td>\n",
       "      <td>2760.000000</td>\n",
       "      <td>33623</td>\n",
       "      <td>76.7</td>\n",
       "      <td>0</td>\n",
       "      <td>0</td>\n",
       "      <td>0</td>\n",
       "      <td>0</td>\n",
       "      <td>True</td>\n",
       "      <td>False</td>\n",
       "      <td>False</td>\n",
       "      <td>False</td>\n",
       "      <td>False</td>\n",
       "      <td>False</td>\n",
       "    </tr>\n",
       "    <tr>\n",
       "      <th>2</th>\n",
       "      <td>1</td>\n",
       "      <td>debt_consolidation</td>\n",
       "      <td>0.1357</td>\n",
       "      <td>366.86</td>\n",
       "      <td>10.373491</td>\n",
       "      <td>11.63</td>\n",
       "      <td>682</td>\n",
       "      <td>4710.000000</td>\n",
       "      <td>3511</td>\n",
       "      <td>25.6</td>\n",
       "      <td>1</td>\n",
       "      <td>0</td>\n",
       "      <td>0</td>\n",
       "      <td>0</td>\n",
       "      <td>False</td>\n",
       "      <td>True</td>\n",
       "      <td>False</td>\n",
       "      <td>False</td>\n",
       "      <td>False</td>\n",
       "      <td>False</td>\n",
       "    </tr>\n",
       "    <tr>\n",
       "      <th>3</th>\n",
       "      <td>1</td>\n",
       "      <td>debt_consolidation</td>\n",
       "      <td>0.1008</td>\n",
       "      <td>162.34</td>\n",
       "      <td>11.350407</td>\n",
       "      <td>8.10</td>\n",
       "      <td>712</td>\n",
       "      <td>2699.958333</td>\n",
       "      <td>33667</td>\n",
       "      <td>73.2</td>\n",
       "      <td>1</td>\n",
       "      <td>0</td>\n",
       "      <td>0</td>\n",
       "      <td>0</td>\n",
       "      <td>False</td>\n",
       "      <td>True</td>\n",
       "      <td>False</td>\n",
       "      <td>False</td>\n",
       "      <td>False</td>\n",
       "      <td>False</td>\n",
       "    </tr>\n",
       "    <tr>\n",
       "      <th>4</th>\n",
       "      <td>1</td>\n",
       "      <td>credit_card</td>\n",
       "      <td>0.1426</td>\n",
       "      <td>102.92</td>\n",
       "      <td>11.299732</td>\n",
       "      <td>14.97</td>\n",
       "      <td>667</td>\n",
       "      <td>4066.000000</td>\n",
       "      <td>4740</td>\n",
       "      <td>39.5</td>\n",
       "      <td>0</td>\n",
       "      <td>1</td>\n",
       "      <td>0</td>\n",
       "      <td>0</td>\n",
       "      <td>True</td>\n",
       "      <td>False</td>\n",
       "      <td>False</td>\n",
       "      <td>False</td>\n",
       "      <td>False</td>\n",
       "      <td>False</td>\n",
       "    </tr>\n",
       "  </tbody>\n",
       "</table>\n",
       "</div>"
      ],
      "text/plain": [
       "   credit.policy             purpose  int.rate  installment  log.annual.inc  \\\n",
       "0              1  debt_consolidation    0.1189       829.10       11.350407   \n",
       "1              1         credit_card    0.1071       228.22       11.082143   \n",
       "2              1  debt_consolidation    0.1357       366.86       10.373491   \n",
       "3              1  debt_consolidation    0.1008       162.34       11.350407   \n",
       "4              1         credit_card    0.1426       102.92       11.299732   \n",
       "\n",
       "     dti  fico  days.with.cr.line  revol.bal  revol.util  inq.last.6mths  \\\n",
       "0  19.48   737        5639.958333      28854        52.1               0   \n",
       "1  14.29   707        2760.000000      33623        76.7               0   \n",
       "2  11.63   682        4710.000000       3511        25.6               1   \n",
       "3   8.10   712        2699.958333      33667        73.2               1   \n",
       "4  14.97   667        4066.000000       4740        39.5               0   \n",
       "\n",
       "   delinq.2yrs  pub.rec  not.fully.paid  purpose_credit_card  \\\n",
       "0            0        0               0                False   \n",
       "1            0        0               0                 True   \n",
       "2            0        0               0                False   \n",
       "3            0        0               0                False   \n",
       "4            1        0               0                 True   \n",
       "\n",
       "   purpose_debt_consolidation  purpose_educational  purpose_home_improvement  \\\n",
       "0                        True                False                     False   \n",
       "1                       False                False                     False   \n",
       "2                        True                False                     False   \n",
       "3                        True                False                     False   \n",
       "4                       False                False                     False   \n",
       "\n",
       "   purpose_major_purchase  purpose_small_business  \n",
       "0                   False                   False  \n",
       "1                   False                   False  \n",
       "2                   False                   False  \n",
       "3                   False                   False  \n",
       "4                   False                   False  "
      ]
     },
     "execution_count": 22,
     "metadata": {},
     "output_type": "execute_result"
    }
   ],
   "source": [
    "loan_data_with_dummies.head()"
   ]
  },
  {
   "cell_type": "markdown",
   "id": "ce9a32e6-58d7-4b72-8597-7ea60ad18b33",
   "metadata": {
    "jp-MarkdownHeadingCollapsed": true
   },
   "source": [
    "## 2) drop the category reference;"
   ]
  },
  {
   "cell_type": "code",
   "execution_count": 23,
   "id": "d47e63a4-e82a-443b-8170-5096ffdaf631",
   "metadata": {},
   "outputs": [],
   "source": [
    "loan_data_with_dummies.drop(\"purpose\", axis=1, inplace=True)"
   ]
  },
  {
   "cell_type": "code",
   "execution_count": 24,
   "id": "89e0aad0-d779-45e9-869b-b4c3353e581c",
   "metadata": {},
   "outputs": [
    {
     "data": {
      "text/html": [
       "<div>\n",
       "<style scoped>\n",
       "    .dataframe tbody tr th:only-of-type {\n",
       "        vertical-align: middle;\n",
       "    }\n",
       "\n",
       "    .dataframe tbody tr th {\n",
       "        vertical-align: top;\n",
       "    }\n",
       "\n",
       "    .dataframe thead th {\n",
       "        text-align: right;\n",
       "    }\n",
       "</style>\n",
       "<table border=\"1\" class=\"dataframe\">\n",
       "  <thead>\n",
       "    <tr style=\"text-align: right;\">\n",
       "      <th></th>\n",
       "      <th>credit.policy</th>\n",
       "      <th>int.rate</th>\n",
       "      <th>installment</th>\n",
       "      <th>log.annual.inc</th>\n",
       "      <th>dti</th>\n",
       "      <th>fico</th>\n",
       "      <th>days.with.cr.line</th>\n",
       "      <th>revol.bal</th>\n",
       "      <th>revol.util</th>\n",
       "      <th>inq.last.6mths</th>\n",
       "      <th>delinq.2yrs</th>\n",
       "      <th>pub.rec</th>\n",
       "      <th>not.fully.paid</th>\n",
       "      <th>purpose_credit_card</th>\n",
       "      <th>purpose_debt_consolidation</th>\n",
       "      <th>purpose_educational</th>\n",
       "      <th>purpose_home_improvement</th>\n",
       "      <th>purpose_major_purchase</th>\n",
       "      <th>purpose_small_business</th>\n",
       "    </tr>\n",
       "  </thead>\n",
       "  <tbody>\n",
       "    <tr>\n",
       "      <th>0</th>\n",
       "      <td>1</td>\n",
       "      <td>0.1189</td>\n",
       "      <td>829.10</td>\n",
       "      <td>11.350407</td>\n",
       "      <td>19.48</td>\n",
       "      <td>737</td>\n",
       "      <td>5639.958333</td>\n",
       "      <td>28854</td>\n",
       "      <td>52.1</td>\n",
       "      <td>0</td>\n",
       "      <td>0</td>\n",
       "      <td>0</td>\n",
       "      <td>0</td>\n",
       "      <td>False</td>\n",
       "      <td>True</td>\n",
       "      <td>False</td>\n",
       "      <td>False</td>\n",
       "      <td>False</td>\n",
       "      <td>False</td>\n",
       "    </tr>\n",
       "    <tr>\n",
       "      <th>1</th>\n",
       "      <td>1</td>\n",
       "      <td>0.1071</td>\n",
       "      <td>228.22</td>\n",
       "      <td>11.082143</td>\n",
       "      <td>14.29</td>\n",
       "      <td>707</td>\n",
       "      <td>2760.000000</td>\n",
       "      <td>33623</td>\n",
       "      <td>76.7</td>\n",
       "      <td>0</td>\n",
       "      <td>0</td>\n",
       "      <td>0</td>\n",
       "      <td>0</td>\n",
       "      <td>True</td>\n",
       "      <td>False</td>\n",
       "      <td>False</td>\n",
       "      <td>False</td>\n",
       "      <td>False</td>\n",
       "      <td>False</td>\n",
       "    </tr>\n",
       "    <tr>\n",
       "      <th>2</th>\n",
       "      <td>1</td>\n",
       "      <td>0.1357</td>\n",
       "      <td>366.86</td>\n",
       "      <td>10.373491</td>\n",
       "      <td>11.63</td>\n",
       "      <td>682</td>\n",
       "      <td>4710.000000</td>\n",
       "      <td>3511</td>\n",
       "      <td>25.6</td>\n",
       "      <td>1</td>\n",
       "      <td>0</td>\n",
       "      <td>0</td>\n",
       "      <td>0</td>\n",
       "      <td>False</td>\n",
       "      <td>True</td>\n",
       "      <td>False</td>\n",
       "      <td>False</td>\n",
       "      <td>False</td>\n",
       "      <td>False</td>\n",
       "    </tr>\n",
       "    <tr>\n",
       "      <th>3</th>\n",
       "      <td>1</td>\n",
       "      <td>0.1008</td>\n",
       "      <td>162.34</td>\n",
       "      <td>11.350407</td>\n",
       "      <td>8.10</td>\n",
       "      <td>712</td>\n",
       "      <td>2699.958333</td>\n",
       "      <td>33667</td>\n",
       "      <td>73.2</td>\n",
       "      <td>1</td>\n",
       "      <td>0</td>\n",
       "      <td>0</td>\n",
       "      <td>0</td>\n",
       "      <td>False</td>\n",
       "      <td>True</td>\n",
       "      <td>False</td>\n",
       "      <td>False</td>\n",
       "      <td>False</td>\n",
       "      <td>False</td>\n",
       "    </tr>\n",
       "    <tr>\n",
       "      <th>4</th>\n",
       "      <td>1</td>\n",
       "      <td>0.1426</td>\n",
       "      <td>102.92</td>\n",
       "      <td>11.299732</td>\n",
       "      <td>14.97</td>\n",
       "      <td>667</td>\n",
       "      <td>4066.000000</td>\n",
       "      <td>4740</td>\n",
       "      <td>39.5</td>\n",
       "      <td>0</td>\n",
       "      <td>1</td>\n",
       "      <td>0</td>\n",
       "      <td>0</td>\n",
       "      <td>True</td>\n",
       "      <td>False</td>\n",
       "      <td>False</td>\n",
       "      <td>False</td>\n",
       "      <td>False</td>\n",
       "      <td>False</td>\n",
       "    </tr>\n",
       "  </tbody>\n",
       "</table>\n",
       "</div>"
      ],
      "text/plain": [
       "   credit.policy  int.rate  installment  log.annual.inc    dti  fico  \\\n",
       "0              1    0.1189       829.10       11.350407  19.48   737   \n",
       "1              1    0.1071       228.22       11.082143  14.29   707   \n",
       "2              1    0.1357       366.86       10.373491  11.63   682   \n",
       "3              1    0.1008       162.34       11.350407   8.10   712   \n",
       "4              1    0.1426       102.92       11.299732  14.97   667   \n",
       "\n",
       "   days.with.cr.line  revol.bal  revol.util  inq.last.6mths  delinq.2yrs  \\\n",
       "0        5639.958333      28854        52.1               0            0   \n",
       "1        2760.000000      33623        76.7               0            0   \n",
       "2        4710.000000       3511        25.6               1            0   \n",
       "3        2699.958333      33667        73.2               1            0   \n",
       "4        4066.000000       4740        39.5               0            1   \n",
       "\n",
       "   pub.rec  not.fully.paid  purpose_credit_card  purpose_debt_consolidation  \\\n",
       "0        0               0                False                        True   \n",
       "1        0               0                 True                       False   \n",
       "2        0               0                False                        True   \n",
       "3        0               0                False                        True   \n",
       "4        0               0                 True                       False   \n",
       "\n",
       "   purpose_educational  purpose_home_improvement  purpose_major_purchase  \\\n",
       "0                False                     False                   False   \n",
       "1                False                     False                   False   \n",
       "2                False                     False                   False   \n",
       "3                False                     False                   False   \n",
       "4                False                     False                   False   \n",
       "\n",
       "   purpose_small_business  \n",
       "0                   False  \n",
       "1                   False  \n",
       "2                   False  \n",
       "3                   False  \n",
       "4                   False  "
      ]
     },
     "execution_count": 24,
     "metadata": {},
     "output_type": "execute_result"
    }
   ],
   "source": [
    "loan_data_with_dummies.head()"
   ]
  },
  {
   "cell_type": "markdown",
   "id": "19d0f965-5c71-4c27-92a3-6be6be15951a",
   "metadata": {
    "jp-MarkdownHeadingCollapsed": true
   },
   "source": [
    "## 3) show the first 5 rows after preprocessing;"
   ]
  },
  {
   "cell_type": "code",
   "execution_count": 25,
   "id": "af3a5d49-ca0f-43a3-8053-e8edd91c977a",
   "metadata": {},
   "outputs": [
    {
     "data": {
      "text/html": [
       "<div>\n",
       "<style scoped>\n",
       "    .dataframe tbody tr th:only-of-type {\n",
       "        vertical-align: middle;\n",
       "    }\n",
       "\n",
       "    .dataframe tbody tr th {\n",
       "        vertical-align: top;\n",
       "    }\n",
       "\n",
       "    .dataframe thead th {\n",
       "        text-align: right;\n",
       "    }\n",
       "</style>\n",
       "<table border=\"1\" class=\"dataframe\">\n",
       "  <thead>\n",
       "    <tr style=\"text-align: right;\">\n",
       "      <th></th>\n",
       "      <th>credit.policy</th>\n",
       "      <th>int.rate</th>\n",
       "      <th>installment</th>\n",
       "      <th>log.annual.inc</th>\n",
       "      <th>dti</th>\n",
       "      <th>fico</th>\n",
       "      <th>days.with.cr.line</th>\n",
       "      <th>revol.bal</th>\n",
       "      <th>revol.util</th>\n",
       "      <th>inq.last.6mths</th>\n",
       "      <th>delinq.2yrs</th>\n",
       "      <th>pub.rec</th>\n",
       "      <th>not.fully.paid</th>\n",
       "      <th>purpose_credit_card</th>\n",
       "      <th>purpose_debt_consolidation</th>\n",
       "      <th>purpose_educational</th>\n",
       "      <th>purpose_home_improvement</th>\n",
       "      <th>purpose_major_purchase</th>\n",
       "      <th>purpose_small_business</th>\n",
       "    </tr>\n",
       "  </thead>\n",
       "  <tbody>\n",
       "    <tr>\n",
       "      <th>0</th>\n",
       "      <td>1</td>\n",
       "      <td>0.1189</td>\n",
       "      <td>829.10</td>\n",
       "      <td>11.350407</td>\n",
       "      <td>19.48</td>\n",
       "      <td>737</td>\n",
       "      <td>5639.958333</td>\n",
       "      <td>28854</td>\n",
       "      <td>52.1</td>\n",
       "      <td>0</td>\n",
       "      <td>0</td>\n",
       "      <td>0</td>\n",
       "      <td>0</td>\n",
       "      <td>False</td>\n",
       "      <td>True</td>\n",
       "      <td>False</td>\n",
       "      <td>False</td>\n",
       "      <td>False</td>\n",
       "      <td>False</td>\n",
       "    </tr>\n",
       "    <tr>\n",
       "      <th>1</th>\n",
       "      <td>1</td>\n",
       "      <td>0.1071</td>\n",
       "      <td>228.22</td>\n",
       "      <td>11.082143</td>\n",
       "      <td>14.29</td>\n",
       "      <td>707</td>\n",
       "      <td>2760.000000</td>\n",
       "      <td>33623</td>\n",
       "      <td>76.7</td>\n",
       "      <td>0</td>\n",
       "      <td>0</td>\n",
       "      <td>0</td>\n",
       "      <td>0</td>\n",
       "      <td>True</td>\n",
       "      <td>False</td>\n",
       "      <td>False</td>\n",
       "      <td>False</td>\n",
       "      <td>False</td>\n",
       "      <td>False</td>\n",
       "    </tr>\n",
       "    <tr>\n",
       "      <th>2</th>\n",
       "      <td>1</td>\n",
       "      <td>0.1357</td>\n",
       "      <td>366.86</td>\n",
       "      <td>10.373491</td>\n",
       "      <td>11.63</td>\n",
       "      <td>682</td>\n",
       "      <td>4710.000000</td>\n",
       "      <td>3511</td>\n",
       "      <td>25.6</td>\n",
       "      <td>1</td>\n",
       "      <td>0</td>\n",
       "      <td>0</td>\n",
       "      <td>0</td>\n",
       "      <td>False</td>\n",
       "      <td>True</td>\n",
       "      <td>False</td>\n",
       "      <td>False</td>\n",
       "      <td>False</td>\n",
       "      <td>False</td>\n",
       "    </tr>\n",
       "    <tr>\n",
       "      <th>3</th>\n",
       "      <td>1</td>\n",
       "      <td>0.1008</td>\n",
       "      <td>162.34</td>\n",
       "      <td>11.350407</td>\n",
       "      <td>8.10</td>\n",
       "      <td>712</td>\n",
       "      <td>2699.958333</td>\n",
       "      <td>33667</td>\n",
       "      <td>73.2</td>\n",
       "      <td>1</td>\n",
       "      <td>0</td>\n",
       "      <td>0</td>\n",
       "      <td>0</td>\n",
       "      <td>False</td>\n",
       "      <td>True</td>\n",
       "      <td>False</td>\n",
       "      <td>False</td>\n",
       "      <td>False</td>\n",
       "      <td>False</td>\n",
       "    </tr>\n",
       "    <tr>\n",
       "      <th>4</th>\n",
       "      <td>1</td>\n",
       "      <td>0.1426</td>\n",
       "      <td>102.92</td>\n",
       "      <td>11.299732</td>\n",
       "      <td>14.97</td>\n",
       "      <td>667</td>\n",
       "      <td>4066.000000</td>\n",
       "      <td>4740</td>\n",
       "      <td>39.5</td>\n",
       "      <td>0</td>\n",
       "      <td>1</td>\n",
       "      <td>0</td>\n",
       "      <td>0</td>\n",
       "      <td>True</td>\n",
       "      <td>False</td>\n",
       "      <td>False</td>\n",
       "      <td>False</td>\n",
       "      <td>False</td>\n",
       "      <td>False</td>\n",
       "    </tr>\n",
       "  </tbody>\n",
       "</table>\n",
       "</div>"
      ],
      "text/plain": [
       "   credit.policy  int.rate  installment  log.annual.inc    dti  fico  \\\n",
       "0              1    0.1189       829.10       11.350407  19.48   737   \n",
       "1              1    0.1071       228.22       11.082143  14.29   707   \n",
       "2              1    0.1357       366.86       10.373491  11.63   682   \n",
       "3              1    0.1008       162.34       11.350407   8.10   712   \n",
       "4              1    0.1426       102.92       11.299732  14.97   667   \n",
       "\n",
       "   days.with.cr.line  revol.bal  revol.util  inq.last.6mths  delinq.2yrs  \\\n",
       "0        5639.958333      28854        52.1               0            0   \n",
       "1        2760.000000      33623        76.7               0            0   \n",
       "2        4710.000000       3511        25.6               1            0   \n",
       "3        2699.958333      33667        73.2               1            0   \n",
       "4        4066.000000       4740        39.5               0            1   \n",
       "\n",
       "   pub.rec  not.fully.paid  purpose_credit_card  purpose_debt_consolidation  \\\n",
       "0        0               0                False                        True   \n",
       "1        0               0                 True                       False   \n",
       "2        0               0                False                        True   \n",
       "3        0               0                False                        True   \n",
       "4        0               0                 True                       False   \n",
       "\n",
       "   purpose_educational  purpose_home_improvement  purpose_major_purchase  \\\n",
       "0                False                     False                   False   \n",
       "1                False                     False                   False   \n",
       "2                False                     False                   False   \n",
       "3                False                     False                   False   \n",
       "4                False                     False                   False   \n",
       "\n",
       "   purpose_small_business  \n",
       "0                   False  \n",
       "1                   False  \n",
       "2                   False  \n",
       "3                   False  \n",
       "4                   False  "
      ]
     },
     "execution_count": 25,
     "metadata": {},
     "output_type": "execute_result"
    }
   ],
   "source": [
    "loan_data_with_dummies.head()"
   ]
  },
  {
   "cell_type": "markdown",
   "id": "3a019d9b-8997-40a5-b3a2-93dcd64c98aa",
   "metadata": {
    "jp-MarkdownHeadingCollapsed": true
   },
   "source": [
    "## 4) Split the data into training and test sets (70% training, 30% test), and show the sizes of training and testing data."
   ]
  },
  {
   "cell_type": "code",
   "execution_count": 26,
   "id": "02252918-382f-4a05-ac9c-32e79f013a50",
   "metadata": {},
   "outputs": [],
   "source": [
    "X = loan_data_with_dummies[[\"credit.policy\", \"int.rate\", \"installment\", \"log.annual.inc\", \"dti\", \"fico\", \"days.with.cr.line\", \"revol.bal\", \"revol.util\", \"inq.last.6mths\", \"delinq.2yrs\", \"pub.rec\", \"purpose_credit_card\", \"purpose_debt_consolidation\", \"purpose_educational\", \"purpose_home_improvement\", \"purpose_major_purchase\", \"purpose_small_business\"]]\n",
    "y = loan_data_with_dummies[\"not.fully.paid\"]"
   ]
  },
  {
   "cell_type": "code",
   "execution_count": 27,
   "id": "da66c59e-4fed-4304-bf68-d207eb8034b4",
   "metadata": {},
   "outputs": [],
   "source": [
    "X_train, X_test, y_train, y_test = train_test_split(X, y, test_size=0.3, random_state=42)"
   ]
  },
  {
   "cell_type": "code",
   "execution_count": 28,
   "id": "4ed36c45-b83f-44f5-826b-8edec8927b03",
   "metadata": {},
   "outputs": [
    {
     "data": {
      "text/plain": [
       "(6703, 18)"
      ]
     },
     "execution_count": 28,
     "metadata": {},
     "output_type": "execute_result"
    }
   ],
   "source": [
    "X_train.shape"
   ]
  },
  {
   "cell_type": "code",
   "execution_count": 29,
   "id": "fb867476-eaee-4dc7-acc0-0549d434d4af",
   "metadata": {},
   "outputs": [
    {
     "data": {
      "text/plain": [
       "(2874, 18)"
      ]
     },
     "execution_count": 29,
     "metadata": {},
     "output_type": "execute_result"
    }
   ],
   "source": [
    "X_test.shape"
   ]
  },
  {
   "cell_type": "code",
   "execution_count": 30,
   "id": "b7f6890f-2932-49b1-bf03-203f7f0d165f",
   "metadata": {},
   "outputs": [
    {
     "data": {
      "text/plain": [
       "(6703,)"
      ]
     },
     "execution_count": 30,
     "metadata": {},
     "output_type": "execute_result"
    }
   ],
   "source": [
    "y_train.shape"
   ]
  },
  {
   "cell_type": "code",
   "execution_count": 31,
   "id": "c105ba3e-f537-4c42-94c9-f0edc85265d4",
   "metadata": {},
   "outputs": [
    {
     "data": {
      "text/plain": [
       "(2874,)"
      ]
     },
     "execution_count": 31,
     "metadata": {},
     "output_type": "execute_result"
    }
   ],
   "source": [
    "y_test.shape"
   ]
  },
  {
   "cell_type": "markdown",
   "id": "099529ba-7b94-46a8-a01e-fa5acd651e43",
   "metadata": {
    "jp-MarkdownHeadingCollapsed": true
   },
   "source": [
    "# 3. Construct a decision tree (4 points)."
   ]
  },
  {
   "cell_type": "markdown",
   "id": "c1ea8361-90f4-4642-a027-5339fe8bfd85",
   "metadata": {
    "jp-MarkdownHeadingCollapsed": true
   },
   "source": [
    "## 1) Train a decision tree classification model using the Gini criterion and show its accuracy."
   ]
  },
  {
   "cell_type": "code",
   "execution_count": 32,
   "id": "3090d66f-cb6b-4daa-ab0f-12b353385a88",
   "metadata": {},
   "outputs": [],
   "source": [
    "decision_tree_classifier_gini = DecisionTreeClassifier(criterion=\"gini\", random_state=42)"
   ]
  },
  {
   "cell_type": "code",
   "execution_count": 33,
   "id": "7e3eb1ba-7f24-48b5-9077-510900c1374b",
   "metadata": {},
   "outputs": [
    {
     "data": {
      "text/html": [
       "<style>#sk-container-id-1 {color: black;}#sk-container-id-1 pre{padding: 0;}#sk-container-id-1 div.sk-toggleable {background-color: white;}#sk-container-id-1 label.sk-toggleable__label {cursor: pointer;display: block;width: 100%;margin-bottom: 0;padding: 0.3em;box-sizing: border-box;text-align: center;}#sk-container-id-1 label.sk-toggleable__label-arrow:before {content: \"▸\";float: left;margin-right: 0.25em;color: #696969;}#sk-container-id-1 label.sk-toggleable__label-arrow:hover:before {color: black;}#sk-container-id-1 div.sk-estimator:hover label.sk-toggleable__label-arrow:before {color: black;}#sk-container-id-1 div.sk-toggleable__content {max-height: 0;max-width: 0;overflow: hidden;text-align: left;background-color: #f0f8ff;}#sk-container-id-1 div.sk-toggleable__content pre {margin: 0.2em;color: black;border-radius: 0.25em;background-color: #f0f8ff;}#sk-container-id-1 input.sk-toggleable__control:checked~div.sk-toggleable__content {max-height: 200px;max-width: 100%;overflow: auto;}#sk-container-id-1 input.sk-toggleable__control:checked~label.sk-toggleable__label-arrow:before {content: \"▾\";}#sk-container-id-1 div.sk-estimator input.sk-toggleable__control:checked~label.sk-toggleable__label {background-color: #d4ebff;}#sk-container-id-1 div.sk-label input.sk-toggleable__control:checked~label.sk-toggleable__label {background-color: #d4ebff;}#sk-container-id-1 input.sk-hidden--visually {border: 0;clip: rect(1px 1px 1px 1px);clip: rect(1px, 1px, 1px, 1px);height: 1px;margin: -1px;overflow: hidden;padding: 0;position: absolute;width: 1px;}#sk-container-id-1 div.sk-estimator {font-family: monospace;background-color: #f0f8ff;border: 1px dotted black;border-radius: 0.25em;box-sizing: border-box;margin-bottom: 0.5em;}#sk-container-id-1 div.sk-estimator:hover {background-color: #d4ebff;}#sk-container-id-1 div.sk-parallel-item::after {content: \"\";width: 100%;border-bottom: 1px solid gray;flex-grow: 1;}#sk-container-id-1 div.sk-label:hover label.sk-toggleable__label {background-color: #d4ebff;}#sk-container-id-1 div.sk-serial::before {content: \"\";position: absolute;border-left: 1px solid gray;box-sizing: border-box;top: 0;bottom: 0;left: 50%;z-index: 0;}#sk-container-id-1 div.sk-serial {display: flex;flex-direction: column;align-items: center;background-color: white;padding-right: 0.2em;padding-left: 0.2em;position: relative;}#sk-container-id-1 div.sk-item {position: relative;z-index: 1;}#sk-container-id-1 div.sk-parallel {display: flex;align-items: stretch;justify-content: center;background-color: white;position: relative;}#sk-container-id-1 div.sk-item::before, #sk-container-id-1 div.sk-parallel-item::before {content: \"\";position: absolute;border-left: 1px solid gray;box-sizing: border-box;top: 0;bottom: 0;left: 50%;z-index: -1;}#sk-container-id-1 div.sk-parallel-item {display: flex;flex-direction: column;z-index: 1;position: relative;background-color: white;}#sk-container-id-1 div.sk-parallel-item:first-child::after {align-self: flex-end;width: 50%;}#sk-container-id-1 div.sk-parallel-item:last-child::after {align-self: flex-start;width: 50%;}#sk-container-id-1 div.sk-parallel-item:only-child::after {width: 0;}#sk-container-id-1 div.sk-dashed-wrapped {border: 1px dashed gray;margin: 0 0.4em 0.5em 0.4em;box-sizing: border-box;padding-bottom: 0.4em;background-color: white;}#sk-container-id-1 div.sk-label label {font-family: monospace;font-weight: bold;display: inline-block;line-height: 1.2em;}#sk-container-id-1 div.sk-label-container {text-align: center;}#sk-container-id-1 div.sk-container {/* jupyter's `normalize.less` sets `[hidden] { display: none; }` but bootstrap.min.css set `[hidden] { display: none !important; }` so we also need the `!important` here to be able to override the default hidden behavior on the sphinx rendered scikit-learn.org. See: https://github.com/scikit-learn/scikit-learn/issues/21755 */display: inline-block !important;position: relative;}#sk-container-id-1 div.sk-text-repr-fallback {display: none;}</style><div id=\"sk-container-id-1\" class=\"sk-top-container\"><div class=\"sk-text-repr-fallback\"><pre>DecisionTreeClassifier(random_state=42)</pre><b>In a Jupyter environment, please rerun this cell to show the HTML representation or trust the notebook. <br />On GitHub, the HTML representation is unable to render, please try loading this page with nbviewer.org.</b></div><div class=\"sk-container\" hidden><div class=\"sk-item\"><div class=\"sk-estimator sk-toggleable\"><input class=\"sk-toggleable__control sk-hidden--visually\" id=\"sk-estimator-id-1\" type=\"checkbox\" checked><label for=\"sk-estimator-id-1\" class=\"sk-toggleable__label sk-toggleable__label-arrow\">DecisionTreeClassifier</label><div class=\"sk-toggleable__content\"><pre>DecisionTreeClassifier(random_state=42)</pre></div></div></div></div></div>"
      ],
      "text/plain": [
       "DecisionTreeClassifier(random_state=42)"
      ]
     },
     "execution_count": 33,
     "metadata": {},
     "output_type": "execute_result"
    }
   ],
   "source": [
    "decision_tree_classifier_gini.fit(X_train, y_train)"
   ]
  },
  {
   "cell_type": "code",
   "execution_count": 34,
   "id": "0b957b4c-6a5a-4e50-8a40-4cc6a0967736",
   "metadata": {},
   "outputs": [],
   "source": [
    "y_pred_gini = decision_tree_classifier_gini.predict(X_test)"
   ]
  },
  {
   "cell_type": "code",
   "execution_count": 35,
   "id": "983d32c7-a237-44b7-a68a-554497575b56",
   "metadata": {},
   "outputs": [],
   "source": [
    "accuracy_gini = accuracy_score(y_test, y_pred_gini)"
   ]
  },
  {
   "cell_type": "code",
   "execution_count": 36,
   "id": "b6eefddf-9f32-4e6e-8584-65d6da20216f",
   "metadata": {},
   "outputs": [
    {
     "data": {
      "text/plain": [
       "0.7404314544189283"
      ]
     },
     "execution_count": 36,
     "metadata": {},
     "output_type": "execute_result"
    }
   ],
   "source": [
    "accuracy_gini"
   ]
  },
  {
   "cell_type": "markdown",
   "id": "abb36359-59d2-401a-825a-8848c72fdd63",
   "metadata": {},
   "source": [
    "**The accuracy of the \"Decision Tree Classifier\" using \"Gini\" criterion is \"0.7404314544189283\" which is 74%.\"**"
   ]
  },
  {
   "cell_type": "markdown",
   "id": "3ca619e7-21a0-4bbf-8f57-605d854be9a3",
   "metadata": {
    "jp-MarkdownHeadingCollapsed": true
   },
   "source": [
    "## 2) Train a decision tree classification model using the Entropy criterion and show its accuracy."
   ]
  },
  {
   "cell_type": "code",
   "execution_count": 37,
   "id": "9eb2d2e6-f399-45f6-8343-064c811d23af",
   "metadata": {},
   "outputs": [],
   "source": [
    "decision_tree_classifier_entropy = DecisionTreeClassifier(criterion=\"entropy\", random_state=42)"
   ]
  },
  {
   "cell_type": "code",
   "execution_count": 38,
   "id": "4b2ab802-c1f0-445c-a918-f9409ca90cda",
   "metadata": {},
   "outputs": [
    {
     "data": {
      "text/html": [
       "<style>#sk-container-id-2 {color: black;}#sk-container-id-2 pre{padding: 0;}#sk-container-id-2 div.sk-toggleable {background-color: white;}#sk-container-id-2 label.sk-toggleable__label {cursor: pointer;display: block;width: 100%;margin-bottom: 0;padding: 0.3em;box-sizing: border-box;text-align: center;}#sk-container-id-2 label.sk-toggleable__label-arrow:before {content: \"▸\";float: left;margin-right: 0.25em;color: #696969;}#sk-container-id-2 label.sk-toggleable__label-arrow:hover:before {color: black;}#sk-container-id-2 div.sk-estimator:hover label.sk-toggleable__label-arrow:before {color: black;}#sk-container-id-2 div.sk-toggleable__content {max-height: 0;max-width: 0;overflow: hidden;text-align: left;background-color: #f0f8ff;}#sk-container-id-2 div.sk-toggleable__content pre {margin: 0.2em;color: black;border-radius: 0.25em;background-color: #f0f8ff;}#sk-container-id-2 input.sk-toggleable__control:checked~div.sk-toggleable__content {max-height: 200px;max-width: 100%;overflow: auto;}#sk-container-id-2 input.sk-toggleable__control:checked~label.sk-toggleable__label-arrow:before {content: \"▾\";}#sk-container-id-2 div.sk-estimator input.sk-toggleable__control:checked~label.sk-toggleable__label {background-color: #d4ebff;}#sk-container-id-2 div.sk-label input.sk-toggleable__control:checked~label.sk-toggleable__label {background-color: #d4ebff;}#sk-container-id-2 input.sk-hidden--visually {border: 0;clip: rect(1px 1px 1px 1px);clip: rect(1px, 1px, 1px, 1px);height: 1px;margin: -1px;overflow: hidden;padding: 0;position: absolute;width: 1px;}#sk-container-id-2 div.sk-estimator {font-family: monospace;background-color: #f0f8ff;border: 1px dotted black;border-radius: 0.25em;box-sizing: border-box;margin-bottom: 0.5em;}#sk-container-id-2 div.sk-estimator:hover {background-color: #d4ebff;}#sk-container-id-2 div.sk-parallel-item::after {content: \"\";width: 100%;border-bottom: 1px solid gray;flex-grow: 1;}#sk-container-id-2 div.sk-label:hover label.sk-toggleable__label {background-color: #d4ebff;}#sk-container-id-2 div.sk-serial::before {content: \"\";position: absolute;border-left: 1px solid gray;box-sizing: border-box;top: 0;bottom: 0;left: 50%;z-index: 0;}#sk-container-id-2 div.sk-serial {display: flex;flex-direction: column;align-items: center;background-color: white;padding-right: 0.2em;padding-left: 0.2em;position: relative;}#sk-container-id-2 div.sk-item {position: relative;z-index: 1;}#sk-container-id-2 div.sk-parallel {display: flex;align-items: stretch;justify-content: center;background-color: white;position: relative;}#sk-container-id-2 div.sk-item::before, #sk-container-id-2 div.sk-parallel-item::before {content: \"\";position: absolute;border-left: 1px solid gray;box-sizing: border-box;top: 0;bottom: 0;left: 50%;z-index: -1;}#sk-container-id-2 div.sk-parallel-item {display: flex;flex-direction: column;z-index: 1;position: relative;background-color: white;}#sk-container-id-2 div.sk-parallel-item:first-child::after {align-self: flex-end;width: 50%;}#sk-container-id-2 div.sk-parallel-item:last-child::after {align-self: flex-start;width: 50%;}#sk-container-id-2 div.sk-parallel-item:only-child::after {width: 0;}#sk-container-id-2 div.sk-dashed-wrapped {border: 1px dashed gray;margin: 0 0.4em 0.5em 0.4em;box-sizing: border-box;padding-bottom: 0.4em;background-color: white;}#sk-container-id-2 div.sk-label label {font-family: monospace;font-weight: bold;display: inline-block;line-height: 1.2em;}#sk-container-id-2 div.sk-label-container {text-align: center;}#sk-container-id-2 div.sk-container {/* jupyter's `normalize.less` sets `[hidden] { display: none; }` but bootstrap.min.css set `[hidden] { display: none !important; }` so we also need the `!important` here to be able to override the default hidden behavior on the sphinx rendered scikit-learn.org. See: https://github.com/scikit-learn/scikit-learn/issues/21755 */display: inline-block !important;position: relative;}#sk-container-id-2 div.sk-text-repr-fallback {display: none;}</style><div id=\"sk-container-id-2\" class=\"sk-top-container\"><div class=\"sk-text-repr-fallback\"><pre>DecisionTreeClassifier(criterion=&#x27;entropy&#x27;, random_state=42)</pre><b>In a Jupyter environment, please rerun this cell to show the HTML representation or trust the notebook. <br />On GitHub, the HTML representation is unable to render, please try loading this page with nbviewer.org.</b></div><div class=\"sk-container\" hidden><div class=\"sk-item\"><div class=\"sk-estimator sk-toggleable\"><input class=\"sk-toggleable__control sk-hidden--visually\" id=\"sk-estimator-id-2\" type=\"checkbox\" checked><label for=\"sk-estimator-id-2\" class=\"sk-toggleable__label sk-toggleable__label-arrow\">DecisionTreeClassifier</label><div class=\"sk-toggleable__content\"><pre>DecisionTreeClassifier(criterion=&#x27;entropy&#x27;, random_state=42)</pre></div></div></div></div></div>"
      ],
      "text/plain": [
       "DecisionTreeClassifier(criterion='entropy', random_state=42)"
      ]
     },
     "execution_count": 38,
     "metadata": {},
     "output_type": "execute_result"
    }
   ],
   "source": [
    "decision_tree_classifier_entropy.fit(X_train, y_train)"
   ]
  },
  {
   "cell_type": "code",
   "execution_count": 39,
   "id": "b6c0feb8-a853-4185-a38c-bdbc02541e7b",
   "metadata": {},
   "outputs": [],
   "source": [
    "y_pred_enrtopy = decision_tree_classifier_entropy.predict(X_test)"
   ]
  },
  {
   "cell_type": "code",
   "execution_count": 40,
   "id": "bb3b2ba0-b3eb-4211-83c2-48ccf20c3e86",
   "metadata": {},
   "outputs": [],
   "source": [
    "accuracy_entropy = accuracy_score(y_test, y_pred_enrtopy)"
   ]
  },
  {
   "cell_type": "code",
   "execution_count": 41,
   "id": "25644b6a-d3af-4ab9-83b0-bc4f98030c0b",
   "metadata": {},
   "outputs": [
    {
     "data": {
      "text/plain": [
       "0.7446068197633959"
      ]
     },
     "execution_count": 41,
     "metadata": {},
     "output_type": "execute_result"
    }
   ],
   "source": [
    "accuracy_entropy"
   ]
  },
  {
   "cell_type": "markdown",
   "id": "93adb80d-85f6-455c-9200-d609d3ea207f",
   "metadata": {},
   "source": [
    "**The accuracy of the \"Decision Tree Classifier\" using \"Entropy\" criterion is \"0.7446068197633959\" which is over \"74%.\"**"
   ]
  },
  {
   "cell_type": "markdown",
   "id": "435b6a11-eeda-43de-86d4-729aa3b3fbd9",
   "metadata": {
    "jp-MarkdownHeadingCollapsed": true
   },
   "source": [
    "## 3) Which decision tree model (Gini or Entropy) performs better on the test set?"
   ]
  },
  {
   "cell_type": "code",
   "execution_count": 42,
   "id": "72826c8e-ecfd-4fc9-ad39-46d63a3cd9b2",
   "metadata": {},
   "outputs": [
    {
     "name": "stdout",
     "output_type": "stream",
     "text": [
      "The \"Decision Tree Classifier\" using \"Entropy\" criterion is better than \"Decision Tree Classifier\" using \"Gini\" criterion.\n"
     ]
    }
   ],
   "source": [
    "if accuracy_gini > accuracy_entropy:\n",
    "    print(\"\"\"The \"Decision Tree Classifier\" using \"Gini\" criterion is better than \"Decision Tree Classifier\" using \"Entropy\" criterion.\"\"\")\n",
    "elif accuracy_entropy > accuracy_gini:\n",
    "    print(\"\"\"The \"Decision Tree Classifier\" using \"Entropy\" criterion is better than \"Decision Tree Classifier\" using \"Gini\" criterion.\"\"\")\n",
    "else:\n",
    "    print(\"\"\"The \"Decision Tree Classifier\" using \"Entropy\" criterion and using \"Gini\" criterion are same.\"\"\")"
   ]
  },
  {
   "cell_type": "markdown",
   "id": "f4b26d53-56a3-480a-a251-6a208f64a66f",
   "metadata": {
    "jp-MarkdownHeadingCollapsed": true
   },
   "source": [
    "# 4. Build a KNN (3 points)."
   ]
  },
  {
   "cell_type": "markdown",
   "id": "d6a8229c-ec64-4b4e-8e33-0ff514fead08",
   "metadata": {
    "jp-MarkdownHeadingCollapsed": true
   },
   "source": [
    "## 1) Train a K-Nearest Neighbors (KNN) classifier with k = 5 and show its accuracy."
   ]
  },
  {
   "cell_type": "code",
   "execution_count": 43,
   "id": "d0d72ad1-9080-4467-ab62-59a395f7aad0",
   "metadata": {},
   "outputs": [],
   "source": [
    "knn_5 = KNeighborsClassifier(n_neighbors=5)"
   ]
  },
  {
   "cell_type": "code",
   "execution_count": 44,
   "id": "9ff73e87-c5ad-4842-8a01-757bb638674a",
   "metadata": {},
   "outputs": [
    {
     "data": {
      "text/html": [
       "<style>#sk-container-id-3 {color: black;}#sk-container-id-3 pre{padding: 0;}#sk-container-id-3 div.sk-toggleable {background-color: white;}#sk-container-id-3 label.sk-toggleable__label {cursor: pointer;display: block;width: 100%;margin-bottom: 0;padding: 0.3em;box-sizing: border-box;text-align: center;}#sk-container-id-3 label.sk-toggleable__label-arrow:before {content: \"▸\";float: left;margin-right: 0.25em;color: #696969;}#sk-container-id-3 label.sk-toggleable__label-arrow:hover:before {color: black;}#sk-container-id-3 div.sk-estimator:hover label.sk-toggleable__label-arrow:before {color: black;}#sk-container-id-3 div.sk-toggleable__content {max-height: 0;max-width: 0;overflow: hidden;text-align: left;background-color: #f0f8ff;}#sk-container-id-3 div.sk-toggleable__content pre {margin: 0.2em;color: black;border-radius: 0.25em;background-color: #f0f8ff;}#sk-container-id-3 input.sk-toggleable__control:checked~div.sk-toggleable__content {max-height: 200px;max-width: 100%;overflow: auto;}#sk-container-id-3 input.sk-toggleable__control:checked~label.sk-toggleable__label-arrow:before {content: \"▾\";}#sk-container-id-3 div.sk-estimator input.sk-toggleable__control:checked~label.sk-toggleable__label {background-color: #d4ebff;}#sk-container-id-3 div.sk-label input.sk-toggleable__control:checked~label.sk-toggleable__label {background-color: #d4ebff;}#sk-container-id-3 input.sk-hidden--visually {border: 0;clip: rect(1px 1px 1px 1px);clip: rect(1px, 1px, 1px, 1px);height: 1px;margin: -1px;overflow: hidden;padding: 0;position: absolute;width: 1px;}#sk-container-id-3 div.sk-estimator {font-family: monospace;background-color: #f0f8ff;border: 1px dotted black;border-radius: 0.25em;box-sizing: border-box;margin-bottom: 0.5em;}#sk-container-id-3 div.sk-estimator:hover {background-color: #d4ebff;}#sk-container-id-3 div.sk-parallel-item::after {content: \"\";width: 100%;border-bottom: 1px solid gray;flex-grow: 1;}#sk-container-id-3 div.sk-label:hover label.sk-toggleable__label {background-color: #d4ebff;}#sk-container-id-3 div.sk-serial::before {content: \"\";position: absolute;border-left: 1px solid gray;box-sizing: border-box;top: 0;bottom: 0;left: 50%;z-index: 0;}#sk-container-id-3 div.sk-serial {display: flex;flex-direction: column;align-items: center;background-color: white;padding-right: 0.2em;padding-left: 0.2em;position: relative;}#sk-container-id-3 div.sk-item {position: relative;z-index: 1;}#sk-container-id-3 div.sk-parallel {display: flex;align-items: stretch;justify-content: center;background-color: white;position: relative;}#sk-container-id-3 div.sk-item::before, #sk-container-id-3 div.sk-parallel-item::before {content: \"\";position: absolute;border-left: 1px solid gray;box-sizing: border-box;top: 0;bottom: 0;left: 50%;z-index: -1;}#sk-container-id-3 div.sk-parallel-item {display: flex;flex-direction: column;z-index: 1;position: relative;background-color: white;}#sk-container-id-3 div.sk-parallel-item:first-child::after {align-self: flex-end;width: 50%;}#sk-container-id-3 div.sk-parallel-item:last-child::after {align-self: flex-start;width: 50%;}#sk-container-id-3 div.sk-parallel-item:only-child::after {width: 0;}#sk-container-id-3 div.sk-dashed-wrapped {border: 1px dashed gray;margin: 0 0.4em 0.5em 0.4em;box-sizing: border-box;padding-bottom: 0.4em;background-color: white;}#sk-container-id-3 div.sk-label label {font-family: monospace;font-weight: bold;display: inline-block;line-height: 1.2em;}#sk-container-id-3 div.sk-label-container {text-align: center;}#sk-container-id-3 div.sk-container {/* jupyter's `normalize.less` sets `[hidden] { display: none; }` but bootstrap.min.css set `[hidden] { display: none !important; }` so we also need the `!important` here to be able to override the default hidden behavior on the sphinx rendered scikit-learn.org. See: https://github.com/scikit-learn/scikit-learn/issues/21755 */display: inline-block !important;position: relative;}#sk-container-id-3 div.sk-text-repr-fallback {display: none;}</style><div id=\"sk-container-id-3\" class=\"sk-top-container\"><div class=\"sk-text-repr-fallback\"><pre>KNeighborsClassifier()</pre><b>In a Jupyter environment, please rerun this cell to show the HTML representation or trust the notebook. <br />On GitHub, the HTML representation is unable to render, please try loading this page with nbviewer.org.</b></div><div class=\"sk-container\" hidden><div class=\"sk-item\"><div class=\"sk-estimator sk-toggleable\"><input class=\"sk-toggleable__control sk-hidden--visually\" id=\"sk-estimator-id-3\" type=\"checkbox\" checked><label for=\"sk-estimator-id-3\" class=\"sk-toggleable__label sk-toggleable__label-arrow\">KNeighborsClassifier</label><div class=\"sk-toggleable__content\"><pre>KNeighborsClassifier()</pre></div></div></div></div></div>"
      ],
      "text/plain": [
       "KNeighborsClassifier()"
      ]
     },
     "execution_count": 44,
     "metadata": {},
     "output_type": "execute_result"
    }
   ],
   "source": [
    "knn_5.fit(X_train, y_train)"
   ]
  },
  {
   "cell_type": "code",
   "execution_count": 45,
   "id": "47cf4059-32c4-4e3c-9c3e-20919bc8827e",
   "metadata": {},
   "outputs": [],
   "source": [
    "y_pred_knn_5 = knn_5.predict(X_test.values)"
   ]
  },
  {
   "cell_type": "code",
   "execution_count": 46,
   "id": "8e855954-10f8-4d47-8603-b3a7cbb43048",
   "metadata": {},
   "outputs": [],
   "source": [
    "accuracy_knn_5 = accuracy_score(y_test, y_pred_knn_5)"
   ]
  },
  {
   "cell_type": "code",
   "execution_count": 47,
   "id": "04830dfe-4119-4d5d-b281-83c8104b5760",
   "metadata": {},
   "outputs": [
    {
     "data": {
      "text/plain": [
       "0.8180236604036186"
      ]
     },
     "execution_count": 47,
     "metadata": {},
     "output_type": "execute_result"
    }
   ],
   "source": [
    "accuracy_knn_5"
   ]
  },
  {
   "cell_type": "markdown",
   "id": "37f8c18c-9aa7-4122-9ba5-fa5f5759b2b9",
   "metadata": {},
   "source": [
    "**The accuracy of \"KNeighboursClassifier\" with \"k = 5\" is \"0.8180236604036186\" which is over \"81%\".**"
   ]
  },
  {
   "cell_type": "markdown",
   "id": "81a38ba2-e432-4438-a84c-3cf9758d5607",
   "metadata": {
    "jp-MarkdownHeadingCollapsed": true
   },
   "source": [
    "## 2) Train a K-Nearest Neighbors (KNN) classifier with k = 3 and show its accuracy."
   ]
  },
  {
   "cell_type": "code",
   "execution_count": 48,
   "id": "aaaa6735-fc9c-48eb-bed6-4e3d204f0a52",
   "metadata": {},
   "outputs": [],
   "source": [
    "knn_3 = KNeighborsClassifier(n_neighbors=3)"
   ]
  },
  {
   "cell_type": "code",
   "execution_count": 49,
   "id": "17e42f42-64d2-45de-9509-42e40697e672",
   "metadata": {},
   "outputs": [
    {
     "data": {
      "text/html": [
       "<style>#sk-container-id-4 {color: black;}#sk-container-id-4 pre{padding: 0;}#sk-container-id-4 div.sk-toggleable {background-color: white;}#sk-container-id-4 label.sk-toggleable__label {cursor: pointer;display: block;width: 100%;margin-bottom: 0;padding: 0.3em;box-sizing: border-box;text-align: center;}#sk-container-id-4 label.sk-toggleable__label-arrow:before {content: \"▸\";float: left;margin-right: 0.25em;color: #696969;}#sk-container-id-4 label.sk-toggleable__label-arrow:hover:before {color: black;}#sk-container-id-4 div.sk-estimator:hover label.sk-toggleable__label-arrow:before {color: black;}#sk-container-id-4 div.sk-toggleable__content {max-height: 0;max-width: 0;overflow: hidden;text-align: left;background-color: #f0f8ff;}#sk-container-id-4 div.sk-toggleable__content pre {margin: 0.2em;color: black;border-radius: 0.25em;background-color: #f0f8ff;}#sk-container-id-4 input.sk-toggleable__control:checked~div.sk-toggleable__content {max-height: 200px;max-width: 100%;overflow: auto;}#sk-container-id-4 input.sk-toggleable__control:checked~label.sk-toggleable__label-arrow:before {content: \"▾\";}#sk-container-id-4 div.sk-estimator input.sk-toggleable__control:checked~label.sk-toggleable__label {background-color: #d4ebff;}#sk-container-id-4 div.sk-label input.sk-toggleable__control:checked~label.sk-toggleable__label {background-color: #d4ebff;}#sk-container-id-4 input.sk-hidden--visually {border: 0;clip: rect(1px 1px 1px 1px);clip: rect(1px, 1px, 1px, 1px);height: 1px;margin: -1px;overflow: hidden;padding: 0;position: absolute;width: 1px;}#sk-container-id-4 div.sk-estimator {font-family: monospace;background-color: #f0f8ff;border: 1px dotted black;border-radius: 0.25em;box-sizing: border-box;margin-bottom: 0.5em;}#sk-container-id-4 div.sk-estimator:hover {background-color: #d4ebff;}#sk-container-id-4 div.sk-parallel-item::after {content: \"\";width: 100%;border-bottom: 1px solid gray;flex-grow: 1;}#sk-container-id-4 div.sk-label:hover label.sk-toggleable__label {background-color: #d4ebff;}#sk-container-id-4 div.sk-serial::before {content: \"\";position: absolute;border-left: 1px solid gray;box-sizing: border-box;top: 0;bottom: 0;left: 50%;z-index: 0;}#sk-container-id-4 div.sk-serial {display: flex;flex-direction: column;align-items: center;background-color: white;padding-right: 0.2em;padding-left: 0.2em;position: relative;}#sk-container-id-4 div.sk-item {position: relative;z-index: 1;}#sk-container-id-4 div.sk-parallel {display: flex;align-items: stretch;justify-content: center;background-color: white;position: relative;}#sk-container-id-4 div.sk-item::before, #sk-container-id-4 div.sk-parallel-item::before {content: \"\";position: absolute;border-left: 1px solid gray;box-sizing: border-box;top: 0;bottom: 0;left: 50%;z-index: -1;}#sk-container-id-4 div.sk-parallel-item {display: flex;flex-direction: column;z-index: 1;position: relative;background-color: white;}#sk-container-id-4 div.sk-parallel-item:first-child::after {align-self: flex-end;width: 50%;}#sk-container-id-4 div.sk-parallel-item:last-child::after {align-self: flex-start;width: 50%;}#sk-container-id-4 div.sk-parallel-item:only-child::after {width: 0;}#sk-container-id-4 div.sk-dashed-wrapped {border: 1px dashed gray;margin: 0 0.4em 0.5em 0.4em;box-sizing: border-box;padding-bottom: 0.4em;background-color: white;}#sk-container-id-4 div.sk-label label {font-family: monospace;font-weight: bold;display: inline-block;line-height: 1.2em;}#sk-container-id-4 div.sk-label-container {text-align: center;}#sk-container-id-4 div.sk-container {/* jupyter's `normalize.less` sets `[hidden] { display: none; }` but bootstrap.min.css set `[hidden] { display: none !important; }` so we also need the `!important` here to be able to override the default hidden behavior on the sphinx rendered scikit-learn.org. See: https://github.com/scikit-learn/scikit-learn/issues/21755 */display: inline-block !important;position: relative;}#sk-container-id-4 div.sk-text-repr-fallback {display: none;}</style><div id=\"sk-container-id-4\" class=\"sk-top-container\"><div class=\"sk-text-repr-fallback\"><pre>KNeighborsClassifier(n_neighbors=3)</pre><b>In a Jupyter environment, please rerun this cell to show the HTML representation or trust the notebook. <br />On GitHub, the HTML representation is unable to render, please try loading this page with nbviewer.org.</b></div><div class=\"sk-container\" hidden><div class=\"sk-item\"><div class=\"sk-estimator sk-toggleable\"><input class=\"sk-toggleable__control sk-hidden--visually\" id=\"sk-estimator-id-4\" type=\"checkbox\" checked><label for=\"sk-estimator-id-4\" class=\"sk-toggleable__label sk-toggleable__label-arrow\">KNeighborsClassifier</label><div class=\"sk-toggleable__content\"><pre>KNeighborsClassifier(n_neighbors=3)</pre></div></div></div></div></div>"
      ],
      "text/plain": [
       "KNeighborsClassifier(n_neighbors=3)"
      ]
     },
     "execution_count": 49,
     "metadata": {},
     "output_type": "execute_result"
    }
   ],
   "source": [
    "knn_3.fit(X_train, y_train)"
   ]
  },
  {
   "cell_type": "code",
   "execution_count": 50,
   "id": "484d3fe6-b2ff-491a-8e15-b39885c9b9e5",
   "metadata": {},
   "outputs": [],
   "source": [
    "y_pred_knn_3 = knn_3.predict(X_test.values)"
   ]
  },
  {
   "cell_type": "code",
   "execution_count": 51,
   "id": "9119a16f-a0a4-4d46-8447-3896aaaa590e",
   "metadata": {},
   "outputs": [],
   "source": [
    "accuracy_knn_3 = accuracy_score(y_test, y_pred_knn_3)"
   ]
  },
  {
   "cell_type": "code",
   "execution_count": 52,
   "id": "54a72271-f184-42cb-b6bd-93c4c21f2e2c",
   "metadata": {},
   "outputs": [
    {
     "data": {
      "text/plain": [
       "0.7957550452331246"
      ]
     },
     "execution_count": 52,
     "metadata": {},
     "output_type": "execute_result"
    }
   ],
   "source": [
    "accuracy_knn_3"
   ]
  },
  {
   "cell_type": "markdown",
   "id": "79f09cff-fc14-4d3a-b250-1f815e8bf739",
   "metadata": {},
   "source": [
    "**The accuracy of \"KNeighboursClassifier\" with \"k = 3\" is \"0.7957550452331246\" which is over \"79\".**"
   ]
  },
  {
   "cell_type": "markdown",
   "id": "22f6572b-b723-447b-8932-f21716039170",
   "metadata": {
    "jp-MarkdownHeadingCollapsed": true
   },
   "source": [
    "## 3) Which K-Nearest Neighbors model (k = 3 or k = 5) performs better on the test set?"
   ]
  },
  {
   "cell_type": "code",
   "execution_count": 53,
   "id": "e6f71025-2a75-4f2e-acb8-deebcb9b97ba",
   "metadata": {},
   "outputs": [
    {
     "name": "stdout",
     "output_type": "stream",
     "text": [
      "The \"KNeighboursClassifier\" with \"k = 5\" performs better than \"KNeighboursClassifier\" with \"k = 3\".\n"
     ]
    }
   ],
   "source": [
    "if accuracy_knn_5 > accuracy_knn_3:\n",
    "    print(\"\"\"The \"KNeighboursClassifier\" with \"k = 5\" performs better than \"KNeighboursClassifier\" with \"k = 3\".\"\"\")\n",
    "elif accuracy_knn_3 > accuracy_knn_5:\n",
    "    print(\"\"\"The \"KNeighboursClassifier\" with \"k = 3\" performs better than \"KNeighboursClassifier\" with \"k = 5\".\"\"\")\n",
    "else:\n",
    "    print(\"\"\"The \"KNeighboursClassifier\" with \"k = 5\" and \"KNeighboursClassifier\" with \"k = 3\" are equal.\"\"\")"
   ]
  },
  {
   "cell_type": "markdown",
   "id": "12a9e457-470c-4250-8d17-9c3dd04e8665",
   "metadata": {
    "jp-MarkdownHeadingCollapsed": true
   },
   "source": [
    "# 5. Perform evaluation (3 points)."
   ]
  },
  {
   "cell_type": "markdown",
   "id": "b61e57e8-3138-400a-8b78-31cc3d67ca0b",
   "metadata": {
    "jp-MarkdownHeadingCollapsed": true
   },
   "source": [
    "## 1) Evaluate the performance of the decision tree (using Entropy) and KNN (k = 5) models using the F1-score."
   ]
  },
  {
   "cell_type": "code",
   "execution_count": 54,
   "id": "ce65312d-f633-46fb-b17d-dadf5e99f49f",
   "metadata": {},
   "outputs": [
    {
     "data": {
      "text/plain": [
       "0.22736842105263158"
      ]
     },
     "execution_count": 54,
     "metadata": {},
     "output_type": "execute_result"
    }
   ],
   "source": [
    "f1_score(y_test, y_pred_enrtopy)"
   ]
  },
  {
   "cell_type": "markdown",
   "id": "df08987e-5ed2-4bf5-a9f1-91d7914c1bee",
   "metadata": {},
   "source": [
    "**The \"F1 Score\" of \"Decision Tree Classifier\" with \"Entropy\" as crition is \"0.22736842105263158\".**"
   ]
  },
  {
   "cell_type": "code",
   "execution_count": 55,
   "id": "0afff49c-4482-4ae0-8d89-7e50d663c6e0",
   "metadata": {},
   "outputs": [
    {
     "data": {
      "text/plain": [
       "0.06440071556350625"
      ]
     },
     "execution_count": 55,
     "metadata": {},
     "output_type": "execute_result"
    }
   ],
   "source": [
    "f1_score(y_test, y_pred_knn_5)"
   ]
  },
  {
   "cell_type": "markdown",
   "id": "fca049dd-cab5-405b-8530-efa85d86a678",
   "metadata": {},
   "source": [
    "**The \"F1 Score\" of \"K Nearest Neighbours\" with \"k = 5\" as crition is \"0.06440071556350625\".**"
   ]
  },
  {
   "cell_type": "markdown",
   "id": "6a0ce2cc-0fb5-4c6c-b819-1daffdfa9744",
   "metadata": {
    "jp-MarkdownHeadingCollapsed": true
   },
   "source": [
    "## 2) Calculate the precision and recall for the decision tree (using Entropy) model."
   ]
  },
  {
   "cell_type": "code",
   "execution_count": 56,
   "id": "7e53883a-d33d-40fa-bceb-6c0a457141f7",
   "metadata": {},
   "outputs": [
    {
     "data": {
      "text/plain": [
       "0.21686746987951808"
      ]
     },
     "execution_count": 56,
     "metadata": {},
     "output_type": "execute_result"
    }
   ],
   "source": [
    "precision_score(y_test, y_pred_enrtopy)"
   ]
  },
  {
   "cell_type": "markdown",
   "id": "ffb59c16-2af3-4d71-b8d5-c9de625a8a07",
   "metadata": {},
   "source": [
    "**The \"Precision Score\" of \"Decision Tree Classifier\" with \"Entropy\" as crition is \"0.21686746987951808\".**"
   ]
  },
  {
   "cell_type": "code",
   "execution_count": 57,
   "id": "b583d90c-252f-494c-a8cd-e0cbfa277a51",
   "metadata": {},
   "outputs": [
    {
     "data": {
      "text/plain": [
       "0.23893805309734514"
      ]
     },
     "execution_count": 57,
     "metadata": {},
     "output_type": "execute_result"
    }
   ],
   "source": [
    "recall_score(y_test, y_pred_enrtopy)"
   ]
  },
  {
   "cell_type": "markdown",
   "id": "dd628515-37d7-4c96-8604-cfddfd144d3a",
   "metadata": {},
   "source": [
    "**The \"Recall Score\" of \"Decision Tree Classifier\" with \"Entropy\" as crition is \"0.23893805309734514\".**"
   ]
  },
  {
   "cell_type": "markdown",
   "id": "6d09151b-54e7-4dc7-bfb9-0b36df6f0695",
   "metadata": {
    "jp-MarkdownHeadingCollapsed": true
   },
   "source": [
    "## 3) Calculate the ROC-AUC score for both the decision tree (using Entropy) and KNN (k = 5) models."
   ]
  },
  {
   "cell_type": "code",
   "execution_count": 58,
   "id": "f4835bf2-5f54-43b1-8b9d-c3cdea15e761",
   "metadata": {},
   "outputs": [
    {
     "data": {
      "text/plain": [
       "0.5389570529731151"
      ]
     },
     "execution_count": 58,
     "metadata": {},
     "output_type": "execute_result"
    }
   ],
   "source": [
    "roc_auc_score(y_test, y_pred_enrtopy)"
   ]
  },
  {
   "cell_type": "markdown",
   "id": "aeb8e1ea-d643-4624-9642-acbc727126f0",
   "metadata": {},
   "source": [
    "**The \"ROC-AUC Score\" of \"Decision Tree Classifier\" with \"Entropy\" as crition is \"0.5389570529731151\".**"
   ]
  },
  {
   "cell_type": "code",
   "execution_count": 59,
   "id": "a29c94c4-bffe-4de9-8ed9-215b5ccbfac1",
   "metadata": {},
   "outputs": [
    {
     "data": {
      "text/plain": [
       "0.5015382591729207"
      ]
     },
     "execution_count": 59,
     "metadata": {},
     "output_type": "execute_result"
    }
   ],
   "source": [
    "roc_auc_score(y_test, y_pred_knn_5)"
   ]
  },
  {
   "cell_type": "markdown",
   "id": "584e0200-4c21-488e-8cfc-d6dd676a2b75",
   "metadata": {},
   "source": [
    "**The \"ROC-AUC Score\" of \"K Nearest Neighbours\" with \"k = 5\" as crition is \"0.5015382591729207\".**"
   ]
  },
  {
   "cell_type": "code",
   "execution_count": null,
   "id": "4d238407-46a0-4f3b-8fc5-fb4c812252cf",
   "metadata": {},
   "outputs": [],
   "source": []
  }
 ],
 "metadata": {
  "kernelspec": {
   "display_name": "Python 3 (ipykernel)",
   "language": "python",
   "name": "python3"
  },
  "language_info": {
   "codemirror_mode": {
    "name": "ipython",
    "version": 3
   },
   "file_extension": ".py",
   "mimetype": "text/x-python",
   "name": "python",
   "nbconvert_exporter": "python",
   "pygments_lexer": "ipython3",
   "version": "3.11.4"
  }
 },
 "nbformat": 4,
 "nbformat_minor": 5
}
